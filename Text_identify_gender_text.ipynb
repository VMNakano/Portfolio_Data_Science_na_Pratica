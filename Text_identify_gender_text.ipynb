{
  "nbformat": 4,
  "nbformat_minor": 0,
  "metadata": {
    "colab": {
      "name": "Text_identify_gender_text.ipynb",
      "provenance": [],
      "collapsed_sections": [],
      "authorship_tag": "ABX9TyNOUZijREhl9bVfIfJzY6Rz",
      "include_colab_link": true
    },
    "kernelspec": {
      "name": "python3",
      "display_name": "Python 3"
    },
    "language_info": {
      "name": "python"
    }
  },
  "cells": [
    {
      "cell_type": "markdown",
      "metadata": {
        "id": "view-in-github",
        "colab_type": "text"
      },
      "source": [
        "<a href=\"https://colab.research.google.com/github/VMNakano/Portfolio_Python/blob/main/Text_identify_gender_text.ipynb\" target=\"_parent\"><img src=\"https://colab.research.google.com/assets/colab-badge.svg\" alt=\"Open In Colab\"/></a>"
      ]
    },
    {
      "cell_type": "markdown",
      "source": [
        "#TEXT - 1 - How to identify the predominant gender in a piece of text.\n",
        "\n",
        "*by Valéria Nakano*\n",
        "\n",
        "using code from \"Applied Text Analysys with Python\""
      ],
      "metadata": {
        "id": "Fs3h179VwC0q"
      }
    },
    {
      "cell_type": "code",
      "source": [
        "# 1 - Import libraries\n",
        "\n",
        "import pandas as pd\n",
        "import numpy as np\n",
        "import re\n",
        "import nltk\n",
        "import matplotlib.pyplot as plt\n",
        "%matplotlib inline\n",
        "\n",
        "\n",
        "from collections import Counter\n",
        "import nltk\n",
        "nltk.download('punkt')\n"
      ],
      "metadata": {
        "colab": {
          "base_uri": "https://localhost:8080/"
        },
        "id": "1UBD6ywLwrdf",
        "outputId": "3bf4f4ee-3a77-4c32-9d27-2b7385b01724"
      },
      "execution_count": 14,
      "outputs": [
        {
          "output_type": "stream",
          "name": "stderr",
          "text": [
            "[nltk_data] Downloading package punkt to /root/nltk_data...\n",
            "[nltk_data]   Package punkt is already up-to-date!\n"
          ]
        },
        {
          "output_type": "execute_result",
          "data": {
            "text/plain": [
              "True"
            ]
          },
          "metadata": {},
          "execution_count": 14
        }
      ]
    },
    {
      "cell_type": "code",
      "source": [
        "# 2 - Create variables\n",
        "\n",
        "MALE = 'male'\n",
        "FEMALE = 'female'\n",
        "UNKNOWN = 'unknown'\n",
        "BOTH = 'both'\n",
        "\n",
        "MALE_WORDS = set([\n",
        "    'guy','spokesman','chairman',\"men's\",'men','him',\"he's\",'his',\n",
        "    'boy','boyfriend','boyfriends','boys','brother','brothers','dad',\n",
        "    'dads','dude','father','fathers','fiance','gentleman','gentlemen',\n",
        "    'god','grandfather','grandpa','grandson','groom','he','himself',\n",
        "    'husband','husbands','king','male','man','mr','nephew','nephews',\n",
        "    'priest','prince','son','sons','uncle','uncles','waiter','widower',\n",
        "    'widowers'\n",
        "])\n",
        "\n",
        "FEMALE_WORDS = set([\n",
        "    'heroine','spokeswoman','chairwoman',\"women's\",'actress','women',\n",
        "    \"she's\",'her','aunt','aunts','bride','daughter','daughters','female',\n",
        "    'fiancee','girl','girlfriend','girlfriends','girls','goddess',\n",
        "    'granddaughter','grandma','grandmother','herself','ladies','lady',\n",
        "    'lady','mom','moms','mother','mothers','mrs','ms','niece','nieces',\n",
        "    'priestess','princess','queens','she','sister','sisters','waitress',\n",
        "    'widow','widows','wife','wives','woman'\n",
        "])"
      ],
      "metadata": {
        "id": "ntxWk2x_xK-I"
      },
      "execution_count": 15,
      "outputs": []
    },
    {
      "cell_type": "code",
      "source": [
        "# 3 - Create functions\n",
        "\n",
        "# Função para decidir o gênero da palavra em função do dicionário de palavras masculinas e femininas\n",
        "def genderize(words):\n",
        "\n",
        "    mwlen = len(MALE_WORDS.intersection(words))\n",
        "    fwlen = len(FEMALE_WORDS.intersection(words))\n",
        "\n",
        "    if mwlen > 0 and fwlen == 0:\n",
        "        return MALE\n",
        "    elif mwlen == 0 and fwlen > 0:\n",
        "        return FEMALE\n",
        "    elif mwlen > 0 and fwlen > 0:\n",
        "        return BOTH\n",
        "    else:\n",
        "        return UNKNOWN\n",
        "\n",
        "# Função para contar as palavras (male / female) e as sentenças (male / female / both / unknown)\n",
        "def count_gender(sentences):\n",
        "\n",
        "    sents = Counter()\n",
        "    words = Counter()\n",
        "\n",
        "    for sentence in sentences:\n",
        "        gender = genderize(sentence)\n",
        "        sents[gender] += 1\n",
        "        words[gender] += len(sentence)\n",
        "\n",
        "    return sents, words\n",
        "\n",
        "# Função para quebrar parágrafos em sentenças e sentenças em tokens. E depois passar os tokens no contador de gênero.\n",
        "def parse_gender(text):\n",
        "\n",
        "    sentences = [\n",
        "        [word.lower() for word in nltk.word_tokenize(sentence)]\n",
        "        for sentence in nltk.sent_tokenize(text)\n",
        "    ]\n",
        "\n",
        "    sents, words = count_gender(sentences)\n",
        "    total = sum(words.values())\n",
        "\n",
        "    for gender, count in words.items():\n",
        "        pcent = (count / total) * 100\n",
        "        nsents = sents[gender]\n",
        "\n",
        "        print(\n",
        "            \"{:0.3f}% {} ({} sentences)\".format(pcent, gender, nsents)\n",
        "        )\n"
      ],
      "metadata": {
        "id": "C-11fipmxTrY"
      },
      "execution_count": 16,
      "outputs": []
    },
    {
      "cell_type": "code",
      "source": [
        "text = \"\"\"Rehearse, Ice Feet, Repeat: The Life of a New York City Ballet Corps Dancer\n",
        "By Michael Cooper\n",
        "With apologies to James Brown, the hardest working people in show business may well be ballet dancers. And at New York City Ballet, none work harder than the dancers in its lowest rank, the corps de ballet. During the first week of the company’s winter season, Claire Kretzschmar, 24, a rising corps member, danced in all seven performances, appearing in five ballets, sometimes changing costumes at intermission to dance two roles in a night.\n",
        "But her work onstage did not even begin to capture the stamina required to be in the corps. Spending a week shadowing Ms. Kretzschmar was exhausting — she gave new meaning to the idea of being on your feet all day. Twelve-hour days at the David H. Koch Theater, the company’s Lincoln Center home, were hardly unusual: Company class each morning was followed by back-to-back-to-back rehearsals, with occasional breaks for costume fittings or physical therapy, and then by the hair-makeup-costume-dance routine of daily performances.\n",
        "Video\n",
        "Every day, Claire Kretzschmar of the New York City Ballet goes from class to rehearsal to performance at a breathless pace. Dance alongside her busy day.CreditCredit...Photograph by Sasha Arutyunova for The New York Times. Technology by Samsung.\n",
        "This weekend will be even more frenetic. Ms. Kretzschmar will appear in seven ballets from Friday evening to Sunday afternoon, when she faces a new test: taking on the title role of the Sleepwalker in George Balanchine’s eerie, proto-goth ballet “La Sonnambula.” Balanchine, one of ballet’s most important choreographers, was a founder of City Ballet, and remains its guiding spirit more than three decades after his death.\n",
        "Being in City Ballet’s corps is not like being a member of a chorus line, or a backup singer. The company promotes almost all of its stars, the principal dancers, from within. So while the corps is expected to be able to move in startling unison, like a school of fish, and to assemble in straight lines and keep all rippling swan arms parallel, its 54 members are also competing for bigger roles and promotions.\n",
        "“There is an element of competition, and people get different opportunities, but everybody just wants to do their best onstage, and everyone wants each other to just do their best onstage,” Ms. Kretzschmar said during a break between rehearsals last week. “We have all experienced so many extreme highs and lows that it’s almost that you have to bond with this group of people.”\n",
        "Here are scenes from one week in the busy life of a corps member.\n",
        "Ms. Kretzschmar at a morning company dance class, followed by back-to-back-to-back rehearsals.Credit...Sasha Arutyunova for The New York Times\n",
        "Tuesday, Opening Day\n",
        "10:09 A.M. COMPANY CLASS, ‘NOTHING FANCY’ Ms. Kretzschmar arrives early in the large studio on the Koch’s fifth floor, stakes out her regular spot at the barre in the back corner, and wraps her toes in paper towels before slipping on her point shoes. Dancers soon fill the room. Unity Phelan and Brittany Pollack bring their dogs.\n",
        "Peter Martins, the company’s ballet master in chief, strides in, coffee cup in hand, and puts the whole company through its paces, as the rehearsal pianist plays Gershwin. Later he says: “George Balanchine used to tell me, ‘You know what class is about, dear?’ He said, ‘What we do is we brush teeth, we clean teeth every morning. Nothing fancy: We just keep the essentials pure.’”\n",
        "11:30 A.M. REHEARSAL STUDIO After class, Ms. Kretzschmar — who studied ballet while growing up in North Carolina, came to New York to study at the School of American Ballet, the company’s official school, and joined the corps in 2011 — stays in the studio to observe a rehearsal of a dance she is learning, and then watches a new Pontus Lidberg ballet for which she is an understudy. At 1 p.m., she finally gets on her toes for a rehearsal of “Fearful Symmetries,” a demanding, propulsive ballet choreographed by Mr. Martins that she was given a principal role in. She pauses to ask how to time a climactic gesture in which she rests her head on her partner’s palm. “It’s a Hail Mary,” the ballet master, Kathleen Tracey, tells her. “Hope for the best!”\n",
        "Image\n",
        "Ms. Kretzschmar in a rehearsal at the David H. Koch Theater. “There is an element of competition,” she said, “but everybody just wants to do their best onstage, and everyone wants each other to just do their best onstage.”Credit...Sasha Arutyunova for The New York Times\n",
        "2:20 P.M. SLEEPWALKING ONSTAGE The wig needs combing. Few characters in ballet make as lasting an impression as the Sleepwalker, an enigmatic character with long, flowing hair who makes her unseeing entrance on point, holding a candle. But when Ms. Kretzschmar first steps out onstage in her new wig, the action briefly stops, as the ballet masters confer with Suzy Alvarez, the company’s hair and makeup supervisor, about how they want the wig to look.\n",
        "It was the wig that first tipped Ms. Kretzschmar off that she was getting the part; even before the casting was announced she was summoned to a fitting. “I don’t think they would give me a wig if I wasn’t going to do it,” she said.\n",
        "The dancers work on one-year contracts. Corps members earn roughly $1,100 to $2,100 a week, depending on seniority, and are typically paid for 37 to 39 weeks a year. Since ballet careers are short, many are in a hurry to make their marks.\n",
        "Giving corps members a shot at big roles like this is part of the ethos of City Ballet. “You test them,” Mr. Martins said. “What are they made of? Am I wrong, am I right? You throw little bones to them and see how they react.”\n",
        "Image\n",
        "Ms. Kretzschmar at a dress rehearsal of “Swan Lake.”Credit...Sasha Arutyunova for The New York Times\n",
        "3:10 P.M. COSTUME FITTING: TUTUS AND HOODIES City Ballet’s costume shop — acres of tulle and tutus — is tucked away on the eighth floor of the Rose Building at Lincoln Center. Fittings here offer a brief respite from the theater and a breath of fresh air. Ms. Kretzschmar tries on the black hoodie, skirt and high-top sneakers she will wear in Justin Peck’s new ballet, “The Times Are Racing.” Then it was back to the theater for one more rehearsal and then opening night, where she danced in Balanchine’s “Firebird,” the last ballet on the evening’s triple bill.\n",
        "A 15-minute physical therapy session. Her left foot, which she injured in the past, “gets tighter quicker than the right one,” Ms. Kretzschmar says.Credit...Sasha Arutyunova for The New York Times\n",
        "Wednesday\n",
        "1:30 P.M. PHYSICAL THERAPY Ballet is a physically punishing, sometimes dangerous business: Injuries are all too common and can lead to missed performances and careers cut short. Ms. Kretzschmar signs up for 15-minute physical therapy sessions in a small space resembling a doctor’s office on the fifth floor of the theater. She lies on a table and Taryn Khong, the therapist, manipulates her left foot, which Ms. Kretzschmar has injured in the past. “It gets tighter quicker than the right one,” she said.\n",
        "4:18 P.M.: ‘FEARFUL SYMMETRIES’ REHEARSAL Ms. Kretzschmar begins her third stage rehearsal of the day. Mr. Martins, who choreographed the piece, makes a request: At one point, when she thrusts her leg behind her, he wants her to bend it to one side, forming a sort of arabesque-with-a-twist. Ms. Tracey, the ballet master leading the rehearsal, demonstrates. “That, exactly,” Mr. Martins says. Ms. Kretzschmar tries once more to execute the twisting step, which some dancers call “crack your back” because it looks as if it might.\n",
        "Image\n",
        "A makeup session before dancing “Swan Lake.”Credit...Sasha Arutyunova for The New York Times\n",
        "6:40 P.M. HAIR AND MAKEUP: HEAD, MEET BUN Time to become a swan. “Swan Lake” is one of the most famous ballets of them all, and Balanchine’s unusual one-act take on it has plenty of dancing for the corps members playing swans. Sitting at a light-bulb-ringed mirror in the hair and makeup room, Ms. Kretzschmar applies eyeliner and puts her hair in a neat bun. A hairdresser calls across the room to ask all the swans to make sure that some hair can be seen beneath their matching black headdresses, which come to a point in the center of their foreheads — lest they start to look like a member of “The Munsters” family with widow’s peaks.\n",
        "“Good evening everyone, this is your half-hour call,” a voice says over a loudspeaker.\n",
        "7 P.M. DRESSING ROOM: LIVING OUT OF A THEATER CASE In the fourth-floor dressing room she shares with other corps women, Ms. Kretzschmar pins on her headdress. This is her corner of the theater. It consists of a mirror, a hanging closet shelf crammed with leotards, tights and clothes, and her theater case — one of the old-fashioned black rectangular cases that dancers live out of and tour with. Hers sits open on a luggage rack; as is traditional, the inside lid is decorated with personal mementos.\n",
        "Image\n",
        "Claire Kretzschmar of New York City Ballet preparing for a rehearsal of “The Four Temperaments” at the David H. Koch Theater.Credit...Photograph by Sasha Arutyunova for The New York Times. Technology by Samsung.\n",
        "7:25 P.M. THE WINGS The space off stage right resembles a mini ballet studio: There is a barre, a small dance floor, and an area for dancers to fix their shoes. Although she is not in the evening’s first ballet, Ms. Kretzschmar arrives before it begins and uses a rasplike tool to scuff the soles of her point shoes so they won’t slip.\n",
        "“I don’t like to feel rushed before the show, because that just makes me more stressed,” she explains later. “For me, I take that time so I can kind of calm down.”\n",
        "Next to her, Tiler Peck, one of the company’s biggest stars, prepares her own shoes. The company’s music director, Andrew Litton, arrives in his tuxedo before heading down to the pit. “Hey Tiler, merde,” he says, employing the earthy French expression ballet dancers use to wish each other luck. “Any last requests?”\n",
        "Then, although she has been dancing much of the day, she warms up again, seemingly oblivious to the performance taking place onstage 30 feet away.\n",
        "Ms. Kretzschmar in “Swan Lake.”Credit...Sasha Arutyunova for The New York Times\n",
        "8:13 P.M. SHOWTIME Now it’s time to use those muscles: first as a swan in “Swan Lake,” the evening’s second ballet, and, after changing into a modern leotard, in Balanchine’s “The Four Temperaments.”\n",
        "9:40 P.M. CURTAIN DOWN, HOME LEAVE After the curtain falls, she goes home for a dinner of leftover pulled pork and macaroni and cheese, and a little television — which she watches with her feet in an ice bucket.\n",
        "Friday\n",
        "12:02 P.M. PECK REHEARSALS: HOODIES ON As Donald J. Trump is being inaugurated in Washington and marchers are preparing for a weekend of mass protests, Ms. Kretzschmar is onstage rehearsing the new Justin Peck ballet — which feels timely, with its dancers clad in shirts and hoodies emblazoned with messages including “Protest,” “Act” and “Unite.” Experimenting, she flips up her hood as she dances. “Try it!” Mr. Peck says encouragingly. “I don’t mind if it comes off.”\n",
        "Saturday\n",
        "6:30 P.M. SLEEPWALKING BETWEEN SHOWS Although she has just danced in a matinee and has another performance that evening, Ms. Kretzschmar requests another “Sonnambula” rehearsal sandwiched between shows. Glenn Keenan, the ballet master, walks her through it again and again.\n",
        "Ms. Keenan asks the pianist, Elaine Chelton, to pick up at the moment the Sleepwalker touches the body of the Poet. “Do you have where she bumps into the body?” she asks. Ms. Chelton scans her piano score, which is annotated with all manner of steps and stage actions. “I have where she steps over,” she replies, and begins playing a little before that.\n",
        "ADVERTISEMENT\n",
        "Ms. Kretzschmar, right, during a rehearsal for Justin Peck’s “Scherzo Fantastique” at the David H. Koch Theater.Credit...Sasha Arutyunova for The New York Times\n",
        "Sunday\n",
        "5:15 P.M. ONE WEEK DOWN, TWO DEBUTS TO COME After dancing two more roles at the matinee — as a male-eating insect in Jerome Robbins’s “The Cage,” and in the corps of Mr. Peck’s “Scherzo Fantastique” — her week comes to an end. She pauses to reflect on the week ahead: On Monday, the company’s day off, she will start a class at Fordham, where she is close to earning a degree in communications, with a minor in English. Then back to dancing, and the debuts of her two big roles, which she said she would keep honing between all her other roles.\n",
        "“I want to feel really prepared,” she said, adding that she would take care not to overdo it. “I try to take a day-by-day, hour-by-hour approach.”\n",
        "\"\"\""
      ],
      "metadata": {
        "id": "lGnLzSU35AYB"
      },
      "execution_count": 17,
      "outputs": []
    },
    {
      "cell_type": "code",
      "source": [
        " parse_gender(text)"
      ],
      "metadata": {
        "colab": {
          "base_uri": "https://localhost:8080/"
        },
        "id": "zRpe4qb16jWB",
        "outputId": "f37e3670-6bf7-4c47-a32c-53833eeac1e9"
      },
      "execution_count": 18,
      "outputs": [
        {
          "output_type": "stream",
          "name": "stdout",
          "text": [
            "37.259% unknown (43 sentences)\n",
            "55.058% female (38 sentences)\n",
            "4.363% both (2 sentences)\n",
            "3.320% male (3 sentences)\n"
          ]
        }
      ]
    },
    {
      "cell_type": "markdown",
      "source": [
        ""
      ],
      "metadata": {
        "id": "gIWTV67AwC4v"
      }
    }
  ]
}