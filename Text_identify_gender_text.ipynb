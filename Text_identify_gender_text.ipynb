{
  "nbformat": 4,
  "nbformat_minor": 0,
  "metadata": {
    "colab": {
      "name": "Text_identify_gender_text.ipynb",
      "provenance": [],
      "authorship_tag": "ABX9TyNvLH3kBGHmTs3XodwqU6F5",
      "include_colab_link": true
    },
    "kernelspec": {
      "name": "python3",
      "display_name": "Python 3"
    },
    "language_info": {
      "name": "python"
    }
  },
  "cells": [
    {
      "cell_type": "markdown",
      "metadata": {
        "id": "view-in-github",
        "colab_type": "text"
      },
      "source": [
        "<a href=\"https://colab.research.google.com/github/VMNakano/Portfolio_Python/blob/main/Text_identify_gender_text.ipynb\" target=\"_parent\"><img src=\"https://colab.research.google.com/assets/colab-badge.svg\" alt=\"Open In Colab\"/></a>"
      ]
    },
    {
      "cell_type": "markdown",
      "source": [
        "*How to identify the predominant gender in a piece of text.\n",
        "\n",
        "by Valéria Nakano\n",
        "using \"Applied Text Analysys with Python\""
      ],
      "metadata": {
        "id": "Fs3h179VwC0q"
      }
    },
    {
      "cell_type": "code",
      "source": [
        "1 - Import libraries\n",
        "\n",
        "import pandas as pd\n",
        "import numpy as np\n",
        "import re\n",
        "import nltk\n",
        "import matplotlib.pyplot as plt\n",
        "%matplotlib inline\n"
      ],
      "metadata": {
        "id": "1UBD6ywLwrdf"
      },
      "execution_count": null,
      "outputs": []
    },
    {
      "cell_type": "code",
      "source": [
        "2 - Create variables\n",
        "\n",
        "MALE = 'male'\n",
        "FEMALE = 'female'\n",
        "UNKNOWN = 'unknown'\n",
        "BOTH = 'both'\n",
        "\n",
        "MALE_WORDS = set([\n",
        "    'guy','spokesman','chairman',\"men's\",'men','him',\"he's\",'his',\n",
        "    'boy','boyfriend','boyfriends','boys','brother','brothers','dad',\n",
        "    'dads','dude','father','fathers','fiance','gentleman','gentlemen',\n",
        "    'god','grandfather','grandpa','grandson','groom','he','himself',\n",
        "    'husband','husbands','king','male','man','mr','nephew','nephews',\n",
        "    'priest','prince','son','sons','uncle','uncles','waiter','widower',\n",
        "    'widowers'\n",
        "])\n",
        "\n",
        "FEMALE_WORDS = set([\n",
        "    'heroine','spokeswoman','chairwoman',\"women's\",'actress','women',\n",
        "    \"she's\",'her','aunt','aunts','bride','daughter','daughters','female',\n",
        "    'fiancee','girl','girlfriend','girlfriends','girls','goddess',\n",
        "    'granddaughter','grandma','grandmother','herself','ladies','lady',\n",
        "    'lady','mom','moms','mother','mothers','mrs','ms','niece','nieces',\n",
        "    'priestess','princess','queens','she','sister','sisters','waitress',\n",
        "    'widow','widows','wife','wives','woman'\n",
        "])"
      ],
      "metadata": {
        "id": "ntxWk2x_xK-I"
      },
      "execution_count": null,
      "outputs": []
    },
    {
      "cell_type": "code",
      "source": [
        "3 - Create functions\n",
        "\n",
        "def genderize(words):\n",
        "\n",
        "    mwlen = len(MALE_WORDS.intersection(words))\n",
        "    fwlen = len(FEMALE_WORDS.intersection(words))\n",
        "\n",
        "    if mwlen > 0 and fwlen == 0:\n",
        "        return MALE\n",
        "    elif mwlen == 0 and fwlen > 0:\n",
        "        return FEMALE\n",
        "    elif mwlen > 0 and fwlen > 0:\n",
        "        return BOTH\n",
        "    else:\n",
        "        return UNKNOWN"
      ],
      "metadata": {
        "id": "C-11fipmxTrY"
      },
      "execution_count": null,
      "outputs": []
    },
    {
      "cell_type": "markdown",
      "source": [
        ""
      ],
      "metadata": {
        "id": "gIWTV67AwC4v"
      }
    }
  ]
}